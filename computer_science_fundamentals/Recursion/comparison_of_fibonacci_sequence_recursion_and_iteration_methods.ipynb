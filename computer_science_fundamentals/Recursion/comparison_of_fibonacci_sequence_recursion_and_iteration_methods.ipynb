{
 "cells": [
  {
   "cell_type": "markdown",
   "metadata": {},
   "source": [
    "# Comparison of Fibonacci sequence recursion and iteration methods"
   ]
  },
  {
   "cell_type": "markdown",
   "metadata": {},
   "source": [
    "## 0 - Imports and config"
   ]
  },
  {
   "cell_type": "code",
   "execution_count": 1,
   "metadata": {},
   "outputs": [],
   "source": [
    "from time import time\n",
    "\n",
    "import matplotlib.pyplot as plt\n",
    "import numpy as np"
   ]
  },
  {
   "cell_type": "code",
   "execution_count": 2,
   "metadata": {},
   "outputs": [],
   "source": [
    "terms = 10"
   ]
  },
  {
   "cell_type": "markdown",
   "metadata": {},
   "source": [
    "## 1 - Recursive method"
   ]
  },
  {
   "cell_type": "markdown",
   "metadata": {},
   "source": [
    "Pros:\n",
    "* Neater and more compact (5 lines of code direcly related to the sequence)\n",
    "* Uses less memory?\n",
    "\n",
    "Cons:\n",
    "* Called exponentially more times with growing n (n is the index of the Fibonacci sequence startinf from 0)\n",
    "* Therefore takes longer to run\n",
    "* Must find the number of calls required for each value of n"
   ]
  },
  {
   "cell_type": "code",
   "execution_count": 3,
   "metadata": {},
   "outputs": [],
   "source": [
    "def fibonacci_recursive(n, seed_0, seed_1):\n",
    "    if n < 0:\n",
    "        raise ValueError(\"invalid index!\")\n",
    "    if n == 0:\n",
    "        return seed_0\n",
    "    if n == 1:\n",
    "        return seed_1\n",
    "    return fibonacci_recursive(n - 1, seed_0, seed_1) + fibonacci_recursive(n - 2, seed_0, seed_1)"
   ]
  },
  {
   "cell_type": "code",
   "execution_count": 4,
   "metadata": {},
   "outputs": [
    {
     "name": "stdout",
     "output_type": "stream",
     "text": [
      "1\n2\n3\n5\n8\n13\n21\n34\n55\n89\n"
     ]
    }
   ],
   "source": [
    "for i in range(terms):\n",
    "    print(fibonacci_recursive(i + 2, 0, 1))"
   ]
  },
  {
   "cell_type": "code",
   "execution_count": 5,
   "metadata": {},
   "outputs": [
    {
     "name": "stdout",
     "output_type": "stream",
     "text": [
      "2\n4\n6\n10\n16\n26\n42\n68\n110\n178\n"
     ]
    }
   ],
   "source": [
    "for i in range(terms):\n",
    "    print(fibonacci_recursive(i + 2, 0, 2))"
   ]
  },
  {
   "cell_type": "markdown",
   "metadata": {},
   "source": [
    "Seed values of (0, 1) generate the Fibonacci sequence, while seed values of (0, 2) generate the increase in the number of calls to a recursive Fibonacci sequence for the (n - 1)th value in the Fibonacci sequence. Thus, we can calculate the number of calls of the recursive Fibonacci sequence for the nth index of the Fibonacci sequence:"
   ]
  },
  {
   "cell_type": "code",
   "execution_count": 6,
   "metadata": {},
   "outputs": [],
   "source": [
    "def number_of_calls_to_recursive_fibonacci(n):\n",
    "    # Set base case\n",
    "    seeds = [1, 1]\n",
    "    if n == 0 | n == 1:\n",
    "        current = seeds[n]\n",
    "        return current\n",
    "\n",
    "    # Recursively find the number of calls beyond this\n",
    "    current = seeds[1]\n",
    "    for i in range(2, n + 1):\n",
    "        current += fibonacci_recursive(i - 1, 0, 2)\n",
    "    return current"
   ]
  },
  {
   "cell_type": "code",
   "execution_count": 7,
   "metadata": {},
   "outputs": [
    {
     "name": "stdout",
     "output_type": "stream",
     "text": [
      "1\n1\n3\n5\n9\n15\n25\n41\n67\n109\n"
     ]
    }
   ],
   "source": [
    "for i in range(terms):\n",
    "    print(number_of_calls_to_recursive_fibonacci(i))"
   ]
  },
  {
   "cell_type": "markdown",
   "metadata": {},
   "source": [
    "## 2 - Iterative method"
   ]
  },
  {
   "cell_type": "markdown",
   "metadata": {},
   "source": [
    "Pros:\n",
    "* Probably a more obvious first implementation\n",
    "* Much faster\n",
    "\n",
    "Cons:\n",
    "* Not as neat or compact (8 lines of code direcly related to the sequence)\n",
    "* Uses more memory?"
   ]
  },
  {
   "cell_type": "code",
   "execution_count": 8,
   "metadata": {},
   "outputs": [],
   "source": [
    "def fibonacci_iterative(n, seed_0, seed_1):\n",
    "    if n < 0:\n",
    "        raise ValueError(\"invalid index!\")\n",
    "    if n == 0:\n",
    "        return seed_0\n",
    "    if n == 1:\n",
    "        return seed_1\n",
    "\n",
    "    f = [seed_0, seed_1]\n",
    "    for i in range(2, n + 1):\n",
    "        f.append(f[i - 1] + f[i - 2])\n",
    "    return f[n]"
   ]
  },
  {
   "cell_type": "code",
   "execution_count": 9,
   "metadata": {},
   "outputs": [
    {
     "name": "stdout",
     "output_type": "stream",
     "text": [
      "0\n2\n2\n4\n6\n10\n16\n26\n42\n68\n"
     ]
    }
   ],
   "source": [
    "for i in range(terms):\n",
    "    print(fibonacci_iterative(i, 0, 2))"
   ]
  },
  {
   "cell_type": "markdown",
   "metadata": {},
   "source": [
    "## 3 - Comparison of time usage"
   ]
  },
  {
   "cell_type": "code",
   "execution_count": 10,
   "metadata": {},
   "outputs": [],
   "source": [
    "terms = 30\n",
    "repeats = 20"
   ]
  },
  {
   "cell_type": "code",
   "execution_count": 13,
   "metadata": {},
   "outputs": [],
   "source": [
    "recursion_times_averaged = np.array([])\n",
    "recursion_times = np.array([])\n",
    "for i in range(terms):\n",
    "    for j in range(repeats):\n",
    "        start = time()\n",
    "        fibonacci_recursive(i, 0, 1)\n",
    "        end = time()\n",
    "        duration = end - start\n",
    "        recursion_times = np.append(recursion_times, duration)\n",
    "    average_duration = np.mean(recursion_times)\n",
    "    recursion_times_averaged = np.append(recursion_times_averaged, average_duration)"
   ]
  },
  {
   "cell_type": "code",
   "execution_count": 17,
   "metadata": {},
   "outputs": [],
   "source": [
    "iteration_times_averaged = np.array([])\n",
    "iteration_times = np.array([])\n",
    "for i in range(terms):\n",
    "    for j in range(repeats):\n",
    "        start = time()\n",
    "        fibonacci_iterative(i, 0, 1)\n",
    "        end = time()\n",
    "        duration = end - start\n",
    "        iteration_times = np.append(iteration_times, duration)\n",
    "    average_duration = np.mean(iteration_times)\n",
    "    iteration_times_averaged = np.append(iteration_times_averaged, average_duration)"
   ]
  },
  {
   "cell_type": "code",
   "execution_count": 21,
   "metadata": {},
   "outputs": [],
   "source": [
    "plt.figure(figsize=(24, 10), facecolor='white')\n",
    "\n",
    "plt.subplot(1, 2, 1)\n",
    "plt.plot(range(terms), recursion_times_averaged * 1000)\n",
    "plt.xlabel('Number of terms', fontsize=18)\n",
    "plt.xticks(fontsize=14)\n",
    "plt.ylabel('Time / ms', fontsize=18)\n",
    "plt.yticks(fontsize=14)\n",
    "plt.yscale('log')\n",
    "plt.title('Time taken to *recursively* generate the Fibonacci sequence', fontsize=20)\n",
    "\n",
    "plt.subplot(1, 2, 2)\n",
    "plt.plot(range(terms), iteration_times_averaged * 1e6)\n",
    "plt.xlabel('Number of terms', fontsize=18)\n",
    "plt.xticks(fontsize=14)\n",
    "plt.ylabel('Time / us', fontsize=18)\n",
    "plt.yticks(fontsize=14)\n",
    "plt.yscale('log')\n",
    "plt.title('Time taken to *iteratively* generate the Fibonacci sequence', fontsize=20)\n",
    "\n",
    "plt.show()"
   ]
  },
  {
   "cell_type": "markdown",
   "metadata": {},
   "source": [
    "**Conclusions:**\n",
    "* Iteration is much, much faster in this case (n < 30)\n",
    "* Recursion seems to scale exponentially with n (take the log to see a straight-line dependence)\n",
    "* Iteration seems to scale roughly linearly"
   ]
  }
 ],
 "metadata": {
  "kernelspec": {
   "display_name": "Python 3",
   "language": "python",
   "name": "python3"
  },
  "language_info": {
   "codemirror_mode": {
    "name": "ipython",
    "version": 3
   },
   "file_extension": ".py",
   "mimetype": "text/x-python",
   "name": "python",
   "nbconvert_exporter": "python",
   "pygments_lexer": "ipython3",
   "version": "3.7.0"
  }
 },
 "nbformat": 4,
 "nbformat_minor": 2
}
